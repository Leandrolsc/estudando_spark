{
 "cells": [
  {
   "cell_type": "code",
   "execution_count": 39,
   "id": "907c6c48-64b5-4ee5-80df-755677254bee",
   "metadata": {},
   "outputs": [
    {
     "name": "stdout",
     "output_type": "stream",
     "text": [
      "Hello World\n"
     ]
    }
   ],
   "source": [
    "print('Hello World')"
   ]
  },
  {
   "cell_type": "code",
   "execution_count": 40,
   "id": "96447cd8-b9de-4c66-ac16-092a9348c838",
   "metadata": {},
   "outputs": [],
   "source": [
    "from pyspark.sql import SparkSession\n",
    "from pyspark.sql.functions import col, sum, desc, year,avg, round"
   ]
  },
  {
   "cell_type": "code",
   "execution_count": 41,
   "id": "ce64563f-0ad5-4e2d-911b-4b90dfdae263",
   "metadata": {},
   "outputs": [
    {
     "name": "stderr",
     "output_type": "stream",
     "text": [
      "25/09/09 23:36:54 WARN SparkSession: Using an existing Spark session; only runtime SQL configurations will take effect.\n"
     ]
    }
   ],
   "source": [
    "spark = SparkSession.builder \\\n",
    "    .appName(\"AnaliseInterativaClima\") \\\n",
    "    .master(\"spark://spark-master:7077\") \\\n",
    "    .config(\"spark.sql.warehouse.dir\", \"/opt/bitnami/spark/spark-warehouse\") \\\n",
    "    .enableHiveSupport() \\\n",
    "    .getOrCreate()"
   ]
  },
  {
   "cell_type": "code",
   "execution_count": 42,
   "id": "59363afc-70d3-4bc6-9a33-4846a9b10fb4",
   "metadata": {},
   "outputs": [],
   "source": [
    "df_clima = spark.read.parquet(\n",
    "            \"data/input/clima_inmet_aggregated.parquet\",\n",
    "            header=True,\n",
    "            inferSchema=True\n",
    "        )"
   ]
  },
  {
   "cell_type": "code",
   "execution_count": 43,
   "id": "e988d3da-ab81-4107-a30c-d77631100c77",
   "metadata": {},
   "outputs": [
    {
     "name": "stdout",
     "output_type": "stream",
     "text": [
      "+----------+------+---+--------------------+---------------+---------------+------------------+\n",
      "|      Data|Regiao| UF|              Cidade|Max_Temperatura|Min_Temperatura|   Med_Temperatura|\n",
      "+----------+------+---+--------------------+---------------+---------------+------------------+\n",
      "|2009-01-01|    CO| DF|          Planaltina|           28.8|           17.3|22.954166666666666|\n",
      "|2009-01-01|    CO| DF|Sudoeste e Octogonal|           29.0|           19.3|23.229166666666668|\n",
      "|2009-01-01|    CO| GO|Alto Paraíso de G...|           28.0|           17.2|21.941666666666666|\n",
      "|2009-01-01|    CO| GO|           Aragarças|           30.4|           23.1|27.054166666666664|\n",
      "|2009-01-01|    CO| GO|           Caiapônia|           31.1|           21.4|24.479166666666668|\n",
      "+----------+------+---+--------------------+---------------+---------------+------------------+\n",
      "only showing top 5 rows\n"
     ]
    }
   ],
   "source": [
    "df_clima.show(5)\n",
    "#df_clima.printSchema()"
   ]
  },
  {
   "cell_type": "code",
   "execution_count": 8,
   "id": "4f285b24-01c1-445b-8c89-2921f8944ebb",
   "metadata": {},
   "outputs": [
    {
     "name": "stderr",
     "output_type": "stream",
     "text": [
      "                                                                                "
     ]
    }
   ],
   "source": [
    "df_clima.write.parquet(\n",
    "        \"/opt/bitnami/spark/data/output/clima_agregado\",\n",
    "        mode=\"overwrite\"\n",
    "    )"
   ]
  },
  {
   "cell_type": "code",
   "execution_count": 44,
   "id": "e9d7db66-dc73-4e78-bc1b-df23f5d4c3bc",
   "metadata": {},
   "outputs": [],
   "source": [
    "df_clima.createOrReplaceTempView(\"clima_view\")"
   ]
  },
  {
   "cell_type": "code",
   "execution_count": 45,
   "id": "9863ae9e-df87-40ba-bc3d-95ddfeb455f2",
   "metadata": {},
   "outputs": [],
   "source": [
    "sql_query = \"\"\"\n",
    "SELECT DISTINCT Cidade\n",
    "    FROM \n",
    "        clima_view\n",
    "WHERE Cidade like '%Belo%'\n",
    "\"\"\""
   ]
  },
  {
   "cell_type": "code",
   "execution_count": 46,
   "id": "144a58d7-8e0f-490d-87d6-2bb655a324a8",
   "metadata": {},
   "outputs": [],
   "source": [
    "cidades = spark.sql(sql_query)"
   ]
  },
  {
   "cell_type": "code",
   "execution_count": 47,
   "id": "233d483e-f557-4fe5-8295-dd82499a2ff4",
   "metadata": {},
   "outputs": [
    {
     "name": "stderr",
     "output_type": "stream",
     "text": [
      "[Stage 34:=============================>                            (1 + 1) / 2]"
     ]
    },
    {
     "name": "stdout",
     "output_type": "stream",
     "text": [
      "+--------------+\n",
      "|        Cidade|\n",
      "+--------------+\n",
      "|Belo Horizonte|\n",
      "+--------------+\n",
      "\n"
     ]
    },
    {
     "name": "stderr",
     "output_type": "stream",
     "text": [
      "                                                                                "
     ]
    }
   ],
   "source": [
    "cidades.show()"
   ]
  },
  {
   "cell_type": "code",
   "execution_count": 17,
   "id": "4fe05b36-acc9-47c4-8fc3-a6458c1b9b7a",
   "metadata": {},
   "outputs": [],
   "source": [
    "sql_query = \"\"\"\n",
    "SELECT *\n",
    "FROM clima_view\n",
    "WHERE Cidade = 'Belo Horizonte'\n",
    "\"\"\""
   ]
  },
  {
   "cell_type": "code",
   "execution_count": 18,
   "id": "29866e3c-528b-4579-9dc0-a65d1ba20987",
   "metadata": {},
   "outputs": [],
   "source": [
    "belo_horizonte = spark.sql(sql_query)"
   ]
  },
  {
   "cell_type": "code",
   "execution_count": 19,
   "id": "3dc7ae1d-9af8-4dca-b95b-17c547c161cf",
   "metadata": {},
   "outputs": [
    {
     "name": "stdout",
     "output_type": "stream",
     "text": [
      "+----------+------+---+--------------+---------------+---------------+------------------+\n",
      "|      Data|Regiao| UF|        Cidade|Max_Temperatura|Min_Temperatura|   Med_Temperatura|\n",
      "+----------+------+---+--------------+---------------+---------------+------------------+\n",
      "|2009-01-01|    SE| MG|Belo Horizonte|           29.0|           16.6|21.702083333333334|\n",
      "|2009-01-02|    SE| MG|Belo Horizonte|           28.7|           17.6|22.827083333333334|\n",
      "|2009-01-03|    SE| MG|Belo Horizonte|           27.5|           18.2| 21.74791666666667|\n",
      "|2009-01-04|    SE| MG|Belo Horizonte|           27.7|           17.6|20.945833333333333|\n",
      "|2009-01-05|    SE| MG|Belo Horizonte|           22.1|           16.3| 18.84318181818182|\n",
      "|2009-01-06|    SE| MG|Belo Horizonte|           27.5|           17.2| 21.56578947368421|\n",
      "|2009-01-07|    SE| MG|Belo Horizonte|           28.7|           16.9| 21.96818181818182|\n",
      "|2009-01-08|    SE| MG|Belo Horizonte|           28.9|           18.0| 22.74791666666667|\n",
      "|2009-01-09|    SE| MG|Belo Horizonte|           29.6|           18.5|23.389583333333334|\n",
      "|2009-01-10|    SE| MG|Belo Horizonte|           27.2|           18.3|22.510416666666668|\n",
      "|2009-01-11|    SE| MG|Belo Horizonte|           28.3|           16.4| 22.18541666666667|\n",
      "|2009-01-12|    SE| MG|Belo Horizonte|           28.9|           17.5|          23.03125|\n",
      "|2009-01-13|    SE| MG|Belo Horizonte|           30.4|           18.4|23.991666666666664|\n",
      "|2009-01-14|    SE| MG|Belo Horizonte|           30.7|           18.8| 23.46666666666667|\n",
      "|2009-01-15|    SE| MG|Belo Horizonte|           28.1|           18.3|22.402083333333334|\n",
      "|2009-01-16|    SE| MG|Belo Horizonte|           27.5|           18.4|             22.45|\n",
      "|2009-01-17|    SE| MG|Belo Horizonte|           27.7|           16.6|21.129166666666666|\n",
      "|2009-01-18|    SE| MG|Belo Horizonte|           28.8|           17.4| 21.77916666666667|\n",
      "|2009-01-19|    SE| MG|Belo Horizonte|           27.8|           17.3|              21.9|\n",
      "|2009-01-20|    SE| MG|Belo Horizonte|           26.2|           18.6|21.266666666666666|\n",
      "+----------+------+---+--------------+---------------+---------------+------------------+\n",
      "only showing top 20 rows\n"
     ]
    }
   ],
   "source": [
    "belo_horizonte.show()"
   ]
  },
  {
   "cell_type": "code",
   "execution_count": 23,
   "id": "d6592a5d-d0df-44a9-92b9-e471e6bb79e2",
   "metadata": {},
   "outputs": [],
   "source": [
    "sql_query = \"\"\"\n",
    "SELECT YEAR(Data) as Ano\n",
    "        ,MIN(Min_Temperatura) as Temperatura_Minima\n",
    "        ,MAX(Max_Temperatura) as Temperatura_Maxima\n",
    "FROM clima_view\n",
    "WHERE Cidade = 'Belo Horizonte'\n",
    "GROUP BY YEAR(Data)\n",
    "Order by Ano\n",
    "\"\"\"\n",
    "belo_horizonte_report = spark.sql(sql_query)"
   ]
  },
  {
   "cell_type": "code",
   "execution_count": 26,
   "id": "5f665d42-4129-4497-b1d3-a249380936fc",
   "metadata": {},
   "outputs": [
    {
     "name": "stdout",
     "output_type": "stream",
     "text": [
      "+----+------------------+------------------+\n",
      "| Ano|Temperatura_Minima|Temperatura_Maxima|\n",
      "+----+------------------+------------------+\n",
      "|2009|               9.1|              33.0|\n",
      "|2010|               6.6|              32.9|\n",
      "|2011|               9.5|              33.3|\n",
      "|2012|               8.6|              36.1|\n",
      "|2013|               9.1|              35.9|\n",
      "|2014|               8.4|              36.0|\n",
      "|2015|               9.6|              37.0|\n",
      "|2016|               9.0|              34.9|\n",
      "|2017|               6.2|              35.3|\n",
      "|2018|               8.3|              33.7|\n",
      "|2019|               6.5|              35.5|\n",
      "|2020|               8.1|              37.8|\n",
      "|2021|               6.7|              36.1|\n",
      "|2022|               4.5|              34.5|\n",
      "|2023|               8.9|              37.6|\n",
      "|2024|               9.5|              35.5|\n",
      "+----+------------------+------------------+\n",
      "\n"
     ]
    }
   ],
   "source": [
    "belo_horizonte_report.show()"
   ]
  },
  {
   "cell_type": "code",
   "execution_count": 27,
   "id": "8fee40f3-2ece-4dd8-a0c3-188ce8d010f4",
   "metadata": {},
   "outputs": [
    {
     "name": "stdout",
     "output_type": "stream",
     "text": [
      "+-------+\n",
      "|    Qtd|\n",
      "+-------+\n",
      "|2649304|\n",
      "+-------+\n",
      "\n"
     ]
    }
   ],
   "source": [
    "sql_query = \"\"\"\n",
    "SELECT COUNT(*) as Qtd\n",
    "FROM clima_view\n",
    "\"\"\"\n",
    "qtd_dados = spark.sql(sql_query)\n",
    "qtd_dados.show()"
   ]
  },
  {
   "cell_type": "code",
   "execution_count": 38,
   "id": "df2fe7f0-2f0b-423a-b76a-9ed03e53f2a5",
   "metadata": {},
   "outputs": [
    {
     "name": "stdout",
     "output_type": "stream",
     "text": [
      "Cidades Brasileiras Temperaturas médias nos ultimos 15 anos:\n",
      "+--------------------+---+-----------------+\n",
      "|              Cidade| UF|Temperatura_Média|\n",
      "+--------------------+---+-----------------+\n",
      "|Santo Antônio do Içá| AM|            30.59|\n",
      "|           Ipanguaçu| RN|             29.3|\n",
      "|           Jaguaribe| CE|            29.22|\n",
      "|               Caicó| RN|            29.04|\n",
      "|         Campo Maior| PI|            28.76|\n",
      "|               Picos| PI|            28.75|\n",
      "|   São João do Piauí| PI|            28.63|\n",
      "|            Floriano| PI|            28.54|\n",
      "|               Patos| PB|            28.45|\n",
      "|São Miguel do Ara...| GO|            28.35|\n",
      "|          Paulistana| PI|            28.22|\n",
      "|              Cuiabá| MT|            28.13|\n",
      "|            Piripiri| PI|            28.05|\n",
      "|          Itaporanga| PB|            28.04|\n",
      "|             Crateús| CE|            28.04|\n",
      "|            Teresina| PI|            28.03|\n",
      "|         Morada Nova| CE|            28.01|\n",
      "|               Apodi| RN|             28.0|\n",
      "|          Jaguaruana| CE|            27.99|\n",
      "|               Macau| RN|            27.98|\n",
      "+--------------------+---+-----------------+\n",
      "only showing top 20 rows\n"
     ]
    },
    {
     "name": "stderr",
     "output_type": "stream",
     "text": [
      "                                                                                "
     ]
    }
   ],
   "source": [
    "med_cidades = df_clima.groupBy(\"Cidade\", \"UF\") \\\n",
    "    .agg(round(avg(\"Med_Temperatura\"), 2).alias(\"Temperatura_Média\")) \\\n",
    "    .orderBy(desc(\"Temperatura_Média\"))\n",
    "\n",
    "print(\"Cidades Brasileiras Temperaturas médias nos ultimos 15 anos:\")\n",
    "med_cidades.show()"
   ]
  },
  {
   "cell_type": "code",
   "execution_count": null,
   "id": "a7154fbb-fddd-4fbf-8d8d-9f8436eb2960",
   "metadata": {},
   "outputs": [],
   "source": []
  }
 ],
 "metadata": {
  "kernelspec": {
   "display_name": "Python 3 (ipykernel)",
   "language": "python",
   "name": "python3"
  },
  "language_info": {
   "codemirror_mode": {
    "name": "ipython",
    "version": 3
   },
   "file_extension": ".py",
   "mimetype": "text/x-python",
   "name": "python",
   "nbconvert_exporter": "python",
   "pygments_lexer": "ipython3",
   "version": "3.12.11"
  }
 },
 "nbformat": 4,
 "nbformat_minor": 5
}
